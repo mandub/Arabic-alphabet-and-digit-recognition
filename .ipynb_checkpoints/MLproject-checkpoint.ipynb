{
 "cells": [
  {
   "cell_type": "code",
   "execution_count": null,
   "metadata": {},
   "outputs": [],
   "source": [
    "# applying Singular value Decomposition on arabic letters data set\n",
    "# and nearest neighbor\n",
    "# by almandub alanazi\n",
    "# training file"
   ]
  },
  {
   "cell_type": "code",
   "execution_count": 4,
   "metadata": {},
   "outputs": [
    {
     "name": "stdout",
     "output_type": "stream",
     "text": [
      "(13440, 1024)\n",
      "(13440, 1)\n",
      "(13440, 32, 32, 1)\n"
     ]
    },
    {
     "data": {
      "image/png": "[encoded data removed]",
      "text/plain": [
       "<Figure size 432x288 with 1 Axes>"
      ]
     },
     "metadata": {
      "needs_background": "light"
     },
     "output_type": "display_data"
    }
   ],
   "source": [
    "import numpy as np\n",
    "import pandas as pd\n",
    "import matplotlib.pyplot as plt\n",
    "%matplotlib inline\n",
    "\n",
    "# download the training data form \n",
    "# https://www.kaggle.com/mloey1/ahcd1/data\n",
    "trainx = pd.read_csv(\"csvTrainImages 13440x1024.csv\",header=None)\n",
    "trainy = pd.read_csv(\"csvTrainLabel 13440x1.csv\",header=None)\n",
    "# give the labels the real name of the letter\n",
    "arabic_labels = ['alef', 'beh', 'teh', 'theh', 'jeem', 'hah', 'khah', 'dal', 'thal',\n",
    "                'reh', 'zain', 'seen', 'sheen', 'sad', 'dad', 'tah', 'zah', 'ain',\n",
    "                'ghain', 'feh', 'qaf', 'kaf', 'lam', 'meem', 'noon', 'heh', 'waw', 'yeh']\n",
    "\n",
    "print (trainx.shape)\n",
    "print (trainy.shape)\n",
    "#print (trainy)\n",
    "\n",
    "# preparing the training data\n",
    "trainx = trainx.values.astype('float32')\n",
    "trainy = trainy.values.astype('int32')-1\n",
    "trainy_=[]\n",
    "for arr in trainy:\n",
    "    trainy_.append(arr[0])\n",
    "trainy = trainy_\n",
    "\n",
    "trainx_reshaped = trainx.reshape([-1, 32, 32, 1])\n",
    "print (trainx_reshaped.shape)\n",
    "\n",
    "# show one letter of the training set\n",
    "x=24\n",
    "plt.imshow(trainx_reshaped[x].squeeze().T)\n",
    "plt.title(arabic_labels[trainy[x]])\n",
    "plt.show()\n",
    "\n"
   ]
  },
  {
   "cell_type": "code",
   "execution_count": 3,
   "metadata": {},
   "outputs": [
    {
     "name": "stdout",
     "output_type": "stream",
     "text": [
      "the count of copies of digit  0  is  480  copies .\n",
      "the count of copies of digit  1  is  480  copies .\n",
      "the count of copies of digit  2  is  480  copies .\n",
      "the count of copies of digit  3  is  480  copies .\n",
      "the count of copies of digit  4  is  480  copies .\n",
      "the count of copies of digit  5  is  480  copies .\n",
      "the count of copies of digit  6  is  480  copies .\n",
      "the count of copies of digit  7  is  480  copies .\n",
      "the count of copies of digit  8  is  480  copies .\n",
      "the count of copies of digit  9  is  480  copies .\n",
      "the count of copies of digit  10  is  480  copies .\n",
      "the count of copies of digit  11  is  480  copies .\n",
      "the count of copies of digit  12  is  480  copies .\n",
      "the count of copies of digit  13  is  480  copies .\n",
      "the count of copies of digit  14  is  480  copies .\n",
      "the count of copies of digit  15  is  480  copies .\n",
      "the count of copies of digit  16  is  480  copies .\n",
      "the count of copies of digit  17  is  480  copies .\n",
      "the count of copies of digit  18  is  480  copies .\n",
      "the count of copies of digit  19  is  480  copies .\n",
      "the count of copies of digit  20  is  480  copies .\n",
      "the count of copies of digit  21  is  480  copies .\n",
      "the count of copies of digit  22  is  480  copies .\n",
      "the count of copies of digit  23  is  480  copies .\n",
      "the count of copies of digit  24  is  480  copies .\n",
      "the count of copies of digit  25  is  480  copies .\n",
      "the count of copies of digit  26  is  480  copies .\n",
      "the count of copies of digit  27  is  480  copies .\n"
     ]
    }
   ],
   "source": [
    "# in the function, we will count how many times the letter apper in trainy\n",
    "def count_numbers_copies(trainy):\n",
    "    # letter_copies_counter hold the number of copies\n",
    "    letter_copies_counter =[]\n",
    "    # hold the indexes of each letter in trainy\n",
    "    indexes = []\n",
    "    for letter in range (28):\n",
    "        indexes.append ([])\n",
    "        counter = 0\n",
    "        for index, i in enumerate (trainy):\n",
    "            if i == letter:\n",
    "                counter +=1\n",
    "                indexes[letter].append(index)\n",
    "        letter_copies_counter.append(counter)\n",
    "    return letter_copies_counter,indexes\n",
    "letters_copies ,indexes =  count_numbers_copies(trainy)\n",
    "# I print this just to make sure I have the correct number of copies\n",
    "for letter,copies in enumerate(letters_copies):\n",
    "    print (\"the count of copies of digit \",letter , \" is \",copies ,\" copies .\" )\n",
    "    "
   ]
  },
  {
   "cell_type": "code",
   "execution_count": 4,
   "metadata": {},
   "outputs": [],
   "source": [
    "# create numpy zreos matrices for each letter in array of size 28 \n",
    "def numpy_zreos_matrices(letters_copies):\n",
    "    array_of_matrices = []\n",
    "    for copies in letters_copies:\n",
    "        # create matrix for each letter depend on the number of copies and\n",
    "        # 1024 which is 32 * 32 pixels\n",
    "        M = np.zeros(shape=(1024,copies))\n",
    "        array_of_matrices.append(M)\n",
    "    \n",
    "    return array_of_matrices\n",
    "letters_matrices = numpy_zreos_matrices(letters_copies)"
   ]
  },
  {
   "cell_type": "code",
   "execution_count": 5,
   "metadata": {},
   "outputs": [],
   "source": [
    "# now we fill our letters_matrices with inforamtion imges from trainx\n",
    "\n",
    "def preparation_function(trainy,trainx,letters_matrices):\n",
    "    for i in range (28):\n",
    "        counter =0\n",
    "        for index , item  in enumerate(trainy):\n",
    "            if item == i:\n",
    "                letters_matrices[i][:,counter] = trainx[index]\n",
    "                counter += 1\n",
    "    return letters_matrices\n",
    "letters_matrices = preparation_function(trainy,trainx,letters_matrices)"
   ]
  },
  {
   "cell_type": "code",
   "execution_count": 6,
   "metadata": {},
   "outputs": [],
   "source": [
    "# find the distance between the image and the matrix of the letter\n",
    "def find_the_distance(SVD,k,var,trainx ):\n",
    "    U0 , S ,VT = SVD\n",
    "    smallU0 = U0[:,0:k]\n",
    "    d =trainx[var]\n",
    "    I = np.eye(1024)\n",
    "    v =np.matmul ((I - np.matmul (smallU0 , smallU0.T)) , d)\n",
    "    distance = np.linalg.norm(v)  \n",
    "    return distance "
   ]
  },
  {
   "cell_type": "code",
   "execution_count": 14,
   "metadata": {},
   "outputs": [
    {
     "name": "stdout",
     "output_type": "stream",
     "text": [
      "k = 1   predict= 18    False   Period = 0.18610358238220215\n",
      "k = 2   predict= 6    False   Period = 0.1859452724456787\n",
      "k = 3   predict= 6    False   Period = 0.18691492080688477\n",
      "k = 4   predict= 6    False   Period = 0.18712568283081055\n",
      "k = 5   predict= 4    True   Period = 0.18917417526245117\n",
      "k = 6   predict= 4    True   Period = 0.18860125541687012\n",
      "k = 7   predict= 4    True   Period = 0.18853402137756348\n",
      "k = 8   predict= 4    True   Period = 0.1895763874053955\n",
      "k = 9   predict= 4    True   Period = 0.1907939910888672\n",
      "k = 10   predict= 4    True   Period = 0.19118952751159668\n",
      "k = 11   predict= 4    True   Period = 0.19143271446228027\n",
      "k = 12   predict= 4    True   Period = 0.19174432754516602\n",
      "k = 13   predict= 4    True   Period = 0.19213247299194336\n",
      "k = 14   predict= 4    True   Period = 0.1929149627685547\n",
      "k = 15   predict= 4    True   Period = 0.19423294067382812\n",
      "k = 16   predict= 4    True   Period = 0.19392061233520508\n",
      "k = 17   predict= 4    True   Period = 0.2005634307861328\n",
      "k = 18   predict= 4    True   Period = 0.2139887809753418\n",
      "k = 19   predict= 4    True   Period = 0.2021939754486084\n",
      "k = 20   predict= 4    True   Period = 0.19761419296264648\n",
      "k = 21   predict= 4    True   Period = 0.19971156120300293\n",
      "k = 22   predict= 4    True   Period = 0.197098970413208\n",
      "k = 23   predict= 4    True   Period = 0.19776415824890137\n",
      "k = 24   predict= 4    True   Period = 0.19926095008850098\n",
      "k = 25   predict= 4    True   Period = 0.199965238571167\n",
      "k = 26   predict= 4    True   Period = 0.1996901035308838\n",
      "k = 27   predict= 4    True   Period = 0.20051908493041992\n",
      "k = 28   predict= 4    True   Period = 0.20073628425598145\n",
      "k = 29   predict= 4    True   Period = 0.20218682289123535\n",
      "k = 30   predict= 4    True   Period = 0.20408868789672852\n",
      "the corect value is =  4\n"
     ]
    }
   ],
   "source": [
    "# here we import time for performance measurement\n",
    "import time\n",
    "def compute_SVD(M): # here compute SVD one time and save results in SVD_List\n",
    "    U0 , S ,VT = np.linalg.svd(M)\n",
    "    SVD = [U0 , S ,VT]\n",
    "    return SVD\n",
    "SVD_List=[]\n",
    "for M in letters_matrices:\n",
    "    SVD_List.append (compute_SVD(M))\n",
    "    \n",
    "# training the model and find best k\n",
    "def find_All_k(trainx,var,Ks):\n",
    "    distances=[]\n",
    "    Periods = []\n",
    "    Ks = Ks +1 # because we will have less Ks by one since we start k for loop by 1 \n",
    "    for k in range (1,Ks):\n",
    "        distances.append([])# this list for number form 0 to 27\n",
    "        Periods.append([])\n",
    "        for SVD in SVD_List:\n",
    "            start = time.time()\n",
    "            distance  = find_the_distance(SVD,k,var,trainx)\n",
    "            end = time.time()\n",
    "            period = end - start\n",
    "            Periods[k-1].append(period)\n",
    "            distances[k-1].append(distance)\n",
    "    return distances,Periods\n",
    "\n",
    "def prediction(distances):\n",
    "    predict_List=[]\n",
    "    for row in distances:\n",
    "        x = min(v for v in row) # here we take the smallest distance \n",
    "        index = row.index(x)    # we will take the index of that smallest distance\n",
    "                                # because index represents the letter\n",
    "        predict_List.append(index)\n",
    "        \n",
    "    return predict_List         # the index of predict_List will represent the k value\n",
    "\n",
    "# let try for one letter to see Periods for each k\n",
    "Ks=30 # we will use 30 Ks\n",
    "var = 35# which is index of letter\n",
    "    \n",
    "distances ,Periods= find_All_k(trainx,var,Ks)  \n",
    "predict_List  = prediction(distances)\n",
    "Periods_List  = []\n",
    "# here sum all Periods for a k  \n",
    "for i in Periods:\n",
    "    Periods_List.append(sum(i))\n",
    "    \n",
    "for i in range (Ks):\n",
    "    print (\"k =\",i+1,\"  predict=\",predict_List[i],\"  \",\n",
    "           predict_List[i] == trainy[var] ,\"  Period =\",Periods_List[i])\n",
    "print (\"the corect value is = \",trainy[var])\n"
   ]
  },
  {
   "cell_type": "code",
   "execution_count": 15,
   "metadata": {},
   "outputs": [
    {
     "data": {
      "image/png": "[encoded data removed]",
      "text/plain": [
       "<Figure size 432x288 with 1 Axes>"
      ]
     },
     "metadata": {
      "needs_background": "light"
     },
     "output_type": "display_data"
    }
   ],
   "source": [
    "import matplotlib.pyplot as plt\n",
    "%matplotlib inline\n",
    "plt.plot(Periods_List)\n",
    "plt.ylabel('Time Periods')\n",
    "plt.xlabel('Ks number')\n",
    "plt.show()"
   ]
  },
  {
   "cell_type": "code",
   "execution_count": 16,
   "metadata": {},
   "outputs": [
    {
     "name": "stdout",
     "output_type": "stream",
     "text": [
      "0\n",
      "1\n",
      "2\n",
      "3\n",
      "4\n",
      "5\n",
      "6\n",
      "7\n",
      "8\n",
      "9\n",
      "10\n",
      "11\n",
      "12\n",
      "13\n",
      "14\n",
      "15\n",
      "16\n",
      "17\n",
      "18\n",
      "19\n",
      "20\n",
      "21\n",
      "22\n",
      "23\n",
      "24\n",
      "25\n",
      "26\n",
      "27\n",
      "28\n",
      "29\n",
      "30\n",
      "31\n",
      "32\n",
      "33\n",
      "34\n",
      "35\n",
      "36\n",
      "37\n",
      "38\n",
      "39\n",
      "40\n",
      "41\n",
      "42\n",
      "43\n",
      "44\n",
      "45\n",
      "46\n",
      "47\n",
      "48\n",
      "49\n",
      "50\n",
      "51\n",
      "52\n",
      "53\n",
      "54\n",
      "55\n",
      "56\n",
      "57\n",
      "58\n",
      "59\n",
      "60\n",
      "61\n",
      "62\n",
      "63\n",
      "64\n",
      "65\n",
      "66\n",
      "67\n",
      "68\n",
      "69\n",
      "70\n",
      "71\n",
      "72\n",
      "73\n",
      "74\n",
      "75\n",
      "76\n",
      "77\n",
      "78\n",
      "79\n",
      "80\n",
      "81\n",
      "82\n",
      "83\n",
      "84\n",
      "85\n",
      "86\n",
      "87\n",
      "88\n",
      "89\n",
      "90\n",
      "91\n",
      "92\n",
      "93\n",
      "94\n",
      "95\n",
      "96\n",
      "97\n",
      "98\n",
      "99\n",
      "100\n",
      "101\n",
      "102\n",
      "103\n",
      "104\n",
      "105\n",
      "106\n",
      "107\n",
      "108\n",
      "109\n",
      "110\n",
      "111\n",
      "112\n",
      "113\n",
      "114\n",
      "115\n",
      "116\n",
      "117\n",
      "118\n",
      "119\n",
      "120\n",
      "121\n",
      "122\n",
      "123\n",
      "124\n",
      "125\n",
      "126\n",
      "127\n",
      "128\n",
      "129\n",
      "130\n",
      "131\n",
      "132\n",
      "133\n",
      "134\n",
      "135\n",
      "136\n",
      "137\n",
      "138\n",
      "139\n"
     ]
    }
   ],
   "source": [
    "Ks=30 # we will use 30 Ks\n",
    "\n",
    "Best_k_list=[0]* Ks # List of zeros to find the best k\n",
    "startloop = time.time()\n",
    "for var in range(140):# which is 28 letter 5 times  #all the data set samples may take 36 hours\n",
    "    print (var)\n",
    "    distances ,Periods= find_All_k(trainx,var,Ks)\n",
    "    \n",
    "    predict_List  = prediction(distances)\n",
    "    for i in range (Ks):\n",
    "        if predict_List[i] == trainy[var]:\n",
    "            # if true increase this k by one correct prediction\n",
    "            Best_k_list[i] +=1\n",
    "endloop = time.time()\n",
    "totaltime = endloop - startloop\n"
   ]
  },
  {
   "cell_type": "code",
   "execution_count": 17,
   "metadata": {},
   "outputs": [
    {
     "name": "stdout",
     "output_type": "stream",
     "text": [
      "[43, 50, 69, 81, 86, 92, 96, 106, 107, 112, 111, 115, 112, 119, 123, 123, 124, 124, 126, 127, 127, 125, 127, 128, 128, 132, 133, 133, 133, 133]\n",
      "this loop take time 15.438258349895477  m\n"
     ]
    }
   ],
   "source": [
    "print (Best_k_list)\n",
    "print ( \"this loop take time\" ,(totaltime /60),\" m\")"
   ]
  },
  {
   "cell_type": "code",
   "execution_count": 18,
   "metadata": {},
   "outputs": [],
   "source": [
    "# let's write the results in a file then read it in another jupyter notebook for test data\n",
    "f = open (\"Best_k_list.txt\",\"w+\")\n",
    "f.write(str(Best_k_list))\n",
    "f.close()"
   ]
  },
  {
   "cell_type": "code",
   "execution_count": 19,
   "metadata": {},
   "outputs": [
    {
     "name": "stdout",
     "output_type": "stream",
     "text": [
      "[43, 50, 69, 81, 86, 92, 96, 106, 107, 112, 111, 115, 112, 119, 123, 123, 124, 124, 126, 127, 127, 125, 127, 128, 128, 132, 133, 133, 133, 133]\n"
     ]
    }
   ],
   "source": [
    "f = open (\"Best_k_list.txt\",\"r\")\n",
    "Best_k_listr = f.read()\n",
    "print (Best_k_listr)\n",
    "f.close()"
   ]
  },
  {
   "cell_type": "code",
   "execution_count": 32,
   "metadata": {},
   "outputs": [
    {
     "name": "stdout",
     "output_type": "stream",
     "text": [
      "the best k for this samples of traning data is  19\n"
     ]
    }
   ],
   "source": [
    "presantage_list=[]\n",
    "for i in Best_k_list:\n",
    "    presantage_list.append(i/140)\n",
    "best_K_presantage = 90.0 # here we chosse the presantage the we think k is good \n",
    "best_K =0\n",
    "for index ,i in enumerate (presantage_list):\n",
    "    \n",
    "    if (i*100) >= best_K_presantage:\n",
    "        best_K = index +1\n",
    "        break\n",
    "   \n",
    "print (\"the best k for this samples of traning data is \",best_K)"
   ]
  },
  {
   "cell_type": "code",
   "execution_count": 49,
   "metadata": {},
   "outputs": [
    {
     "data": {
      "image/png": "[encoded data removed]",
      "text/plain": [
       "<Figure size 432x288 with 1 Axes>"
      ]
     },
     "metadata": {
      "needs_background": "light"
     },
     "output_type": "display_data"
    }
   ],
   "source": [
    "plt.plot(presantage_list)\n",
    "plt.ylabel('Presantages')\n",
    "plt.xlabel('Ks number')\n",
    "plt.show()"
   ]
  },
  {
   "cell_type": "code",
   "execution_count": null,
   "metadata": {},
   "outputs": [],
   "source": []
  }
 ],
 "metadata": {
  "kernelspec": {
   "display_name": "Python 3",
   "language": "python",
   "name": "python3"
  },
  "language_info": {
   "codemirror_mode": {
    "name": "ipython",
    "version": 3
   },
   "file_extension": ".py",
   "mimetype": "text/x-python",
   "name": "python",
   "nbconvert_exporter": "python",
   "pygments_lexer": "ipython3",
   "version": "3.6.5"
  }
 },
 "nbformat": 4,
 "nbformat_minor": 2
}
